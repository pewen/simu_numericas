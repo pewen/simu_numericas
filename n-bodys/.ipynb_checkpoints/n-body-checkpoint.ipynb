{
 "metadata": {
  "name": "",
  "signature": "sha256:5c64745965c559c634d022d62a36b2183fb58b0ed83f46a060cb2f2a90e85111"
 },
 "nbformat": 3,
 "nbformat_minor": 0,
 "worksheets": [
  {
   "cells": [
    {
     "cell_type": "code",
     "collapsed": false,
     "input": [
      "import numpy as np\n",
      "from scipy.integrate import ode, odeint\n",
      "import matplotlib.pyplot as plt\n",
      "\n",
      "%matplotlib inline"
     ],
     "language": "python",
     "metadata": {},
     "outputs": [],
     "prompt_number": 1
    },
    {
     "cell_type": "code",
     "collapsed": false,
     "input": [
      "M = 0.5\n",
      "\n",
      "t0 = 0 # initial start time\n",
      "tfinal = 5 # final start time\n",
      "dt = .005 # time step to solution (dopri5 algorithm uses adaptive)\n",
      "t_output = np.arange(t0, tfinal, dt) #tiempo en el cual voy a resolver las ecuaciones\n",
      "y0 = np.array([.25,0.0,1,1]) # initial position and velocity\n",
      "\n",
      "def ecu(Y, t, M):\n",
      "    x, y, v_x, v_y = Y\n",
      "    d3 = (x**2 + y**2)**1.5\n",
      "    return [v_x, v_y, -M*x/d3, -M*y/d3]\n",
      "\n",
      "y_result = odeint(ecu, y0, t_output, args=(M,))\n",
      "\n",
      "x_res, y_res, vx_res, vy_res = y_result.T # extract x and y cols\n",
      "\n",
      "plt.figure()\n",
      "plt.plot(x_res, y_res)"
     ],
     "language": "python",
     "metadata": {},
     "outputs": [
      {
       "metadata": {},
       "output_type": "pyout",
       "prompt_number": 20,
       "text": [
        "[<matplotlib.lines.Line2D at 0x3df09d0>]"
       ]
      },
      {
       "metadata": {},
       "output_type": "display_data",
       "png": "[encoded data removed]",
       "text": [
        "<matplotlib.figure.Figure at 0x3dce990>"
       ]
      }
     ],
     "prompt_number": 20
    },
    {
     "cell_type": "code",
     "collapsed": false,
     "input": [
      "'''\n",
      "Numerical solution of the one-body problem using dopri5\n",
      "'''\n",
      " \n",
      "# Compute RHS of ODE, f(t,Y)\n",
      "def f(t,Y):\n",
      "    x,y,vx,vy = Y # define individual values\n",
      "    d3 = (x**2+y**2)**1.5 # ||x||^3\n",
      "    M = .5\n",
      "    return np.array([vx,vy,-M*x/d3,-M*y/d3])\n",
      " \n",
      "# initial parameters\n",
      "t0 = 0 # initial start time\n",
      "tfinal = 5 # final start time\n",
      "dt = .005 # time step to solution (dopri5 algorithm uses adaptive)\n",
      "y0 = np.array([.25,0.0,0.,.45]) # initial position and velocity\n",
      " \n",
      "# initiate integrator object\n",
      "test = ode(f).set_integrator('dopri5',atol=1e-6) # prescribe tolerance for adaptive time step\n",
      "test.set_initial_value(y0,t0) # set initial time and initial value\n",
      "\n",
      "fig = plt.figure() # initialize figure\n",
      "ax = fig.add_subplot(111) # name of the plot\n",
      "while test.successful() and test.t < tfinal:\n",
      "    # integrate\n",
      "    test.integrate(test.t+dt)\n",
      "    # plot position\n",
      "    ax.plot(test.y[0],test.y[1],'b.',markersize=2)\n",
      "    ax.plot(0,0,'oy',markersize=12)\n",
      "    ax.set_xlim([-.15,.35])\n",
      "    ax.set_ylim([-.12,.15])\n",
      "    ax.set_title('One-body orbit')"
     ],
     "language": "python",
     "metadata": {},
     "outputs": [
      {
       "metadata": {},
       "output_type": "display_data",
       "png": "[encoded data removed]",
       "text": [
        "<matplotlib.figure.Figure at 0x3b87b90>"
       ]
      }
     ],
     "prompt_number": 3
    },
    {
     "cell_type": "code",
     "collapsed": false,
     "input": [
      "def euler_step(u, f, dt):\n",
      "    \"\"\"Returns the solution at the next time-step using Euler's method.\n",
      "    \n",
      "    Parameters\n",
      "    ----------\n",
      "    u : array of float\n",
      "        solution at the previous time-step.\n",
      "    f : function\n",
      "        function to compute the right hand-side of the system of equation.\n",
      "    dt : float\n",
      "        time-increment.\n",
      "    \n",
      "    Returns\n",
      "    -------\n",
      "    u_n_plus_1 : array of float\n",
      "        approximate solution at the next time step.\n",
      "    return u + dt * f(u)\n",
      "    \"\"\"\n",
      "    \n",
      "    return u + dt * f(u)\n",
      "\n",
      "def f(u):\n",
      "    \"\"\"Returns the right-hand side of the rocket flight system of equations.\n",
      "    \n",
      "    Parameters\n",
      "    ----------\n",
      "    u : array of float\n",
      "        array containing the solution at time n.\n",
      "        \n",
      "    Returns\n",
      "    -------\n",
      "    dudt : array of float\n",
      "        array containing the RHS given u.\n",
      "    \"\"\"\n",
      "    \n",
      "    r1x = u[0]\n",
      "    r1y = u[1]\n",
      "    r2x = u[2]\n",
      "    r2y = u[3]\n",
      "    v1x = u[4]\n",
      "    v1y = u[5]\n",
      "    v2x = u[6]\n",
      "    v2y = u[7]\n",
      "    \n",
      "    dist_1_2 = ((r1x - r2x)**2 + (r1y - r2y)**2)**1.5 # ||r1 - r2||^3\n",
      "    \n",
      "    return np.array([v1x, v1y, v2x, v2y, G*m2/dist_1_2*(r1x - r2x), G*m2/dist_1_2*(r1y - r2y),\\\n",
      "                     G*m1/dist_1_2*(r2x - r1x), G*m1/dist_1_2*(r2y - r1y)])"
     ],
     "language": "python",
     "metadata": {},
     "outputs": [],
     "prompt_number": 2
    },
    {
     "cell_type": "code",
     "collapsed": false,
     "input": [
      "#Parametros del modelo\n",
      "G = 0.5\n",
      "m1 = 5.\n",
      "m2 = 0.\n",
      "\n",
      "T = 400.0                           # final time\n",
      "dt = 0.1                           # time increment\n",
      "N = int(T/dt) + 1                  # number of time-steps\n",
      "t = np.linspace(0.0, T, N)      # time discretization\n",
      "\n",
      "#Codiciones iniciales\n",
      "r1x = .25\n",
      "r1y = 0.\n",
      "r2x = 0.\n",
      "r2y = 0.\n",
      "v1x = 1.\n",
      "v1y = 1.\n",
      "v2x = 0.\n",
      "v2y = 0.\n",
      "\n",
      "# initialize the array containing the solution for each time-step\n",
      "u = np.empty((N, 8))\n",
      "u[0] = np.array([r1x, r1y, r2x, r2y, v1x, v1y, v2x, v2y])# fill 1st element with initial values\n",
      "\n",
      "# time loop - Euler method\n",
      "for n in range(N-1):\n",
      "    \n",
      "    u[n+1] = euler_step(u[n], f, dt)"
     ],
     "language": "python",
     "metadata": {},
     "outputs": [],
     "prompt_number": 8
    },
    {
     "cell_type": "code",
     "collapsed": false,
     "input": [
      "plt.plot(u[:,0], u[:,1])\n",
      "plt.plot(u[:,2], u[:,3])"
     ],
     "language": "python",
     "metadata": {},
     "outputs": [
      {
       "metadata": {},
       "output_type": "pyout",
       "prompt_number": 9,
       "text": [
        "[<matplotlib.lines.Line2D at 0x395f710>]"
       ]
      },
      {
       "metadata": {},
       "output_type": "display_data",
       "png": "[encoded data removed]",
       "text": [
        "<matplotlib.figure.Figure at 0x395f210>"
       ]
      }
     ],
     "prompt_number": 9
    }
   ],
   "metadata": {}
  }
 ]
}